{
 "cells": [
  {
   "cell_type": "code",
   "execution_count": null,
   "metadata": {},
   "outputs": [],
   "source": [
    "function free_final_time_discrete_dynamics!(x_dot, x,\n",
    "                p::Tuple{Any, Any, Float64, Int64, AbstractModel, NTuple{15, Any}}, tau)\n",
    "                control, tau_ref, tf, k, model, (A, B, STM, STM_inv, ẋ, Ȧ, Bṁ, Bṗ, Ṡ, ż, aux1, aux2, aux3, aux4, aux5) = p\n",
    "\n",
    "    n = length(model.x0)\n",
    "    n1 = n + n^2\n",
    "\n",
    "    x_ref = @view x[1:n]\n",
    "    u_ref = get_control(control, tau*tf)\n",
    "\n",
    "    getAB!(A, B, x_ref, model)\n",
    "    A .*= tf\n",
    "    B .*= tf\n",
    "\n",
    "    # state dynamics\n",
    "    dynamics!(aux1, x_ref, (control, model), tau*tf)\n",
    "    ẋ .= aux1 .* tf\n",
    "\n",
    "    # STM\n",
    "    STM .= reshape((@view x[n+1:n1]), (n,n))\n",
    "    STM_inv .= inv(STM)\n",
    "    mul!(Ȧ, A, STM)\n",
    "\n",
    "    # B minus matrix\n",
    "    lambda_minus = (tau_ref[k+1]-tau)/(tau_ref[k+1]-tau_ref[k])\n",
    "    aux2 .= STM_inv .* lambda_minus\n",
    "    mul!(Bṁ, aux2, B)\n",
    "\n",
    "    # B plus matrix\n",
    "    lambda_plus = (tau - tau_ref[k])/(tau_ref[k+1]-tau_ref[k])\n",
    "    aux3 .= STM_inv .* lambda_plus\n",
    "    mul!(Bṗ, aux3, B)\n",
    "\n",
    "    # S matrix\n",
    "    mul!(Ṡ, STM_inv, aux1)\n",
    "    # dynamics!(Ṡ, x_ref, (control, model), tau*tf)\n",
    "\n",
    "    # z vector \n",
    "    B .*= u_ref\n",
    "    mul!(aux4, A, x_ref)\n",
    "    aux5 .= aux4 .+ B\n",
    "    mul!(ż, STM_inv, aux5)\n",
    "    ż .*= -1.0\n",
    "\n",
    "    x_dot .= [ẋ; reduce(vcat, Ȧ); Bṁ; Bṗ; Ṡ; ż]\n",
    "\n",
    "    nothing\n",
    "end"
   ]
  }
 ],
 "metadata": {
  "kernelspec": {
   "display_name": "Julia 1.10.2",
   "language": "julia",
   "name": "julia-1.10"
  },
  "language_info": {
   "file_extension": ".jl",
   "mimetype": "application/julia",
   "name": "julia",
   "version": "1.10.2"
  },
  "orig_nbformat": 4
 },
 "nbformat": 4,
 "nbformat_minor": 2
}
