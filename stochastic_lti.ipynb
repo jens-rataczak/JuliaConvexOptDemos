{
 "cells": [
  {
   "cell_type": "markdown",
   "metadata": {},
   "source": [
    "# Covariance Steering of Stochastic Linear System"
   ]
  },
  {
   "cell_type": "markdown",
   "metadata": {},
   "source": [
    "## Background\n",
    "\n",
    "Consider the stochastic linear discrete-time system given by\n",
    "\n",
    "$x_{k+1} = A_kx_k + B_ku_k + G_kw_k$\n",
    "\n",
    "for $k = 0,1,\\ldots,N-1$ where $x\\in\\mathbb{R}^n$ and $u\\in\\mathbb{R}^m$ are the state and control, and $A_k\\in\\mathbb{R}^{n\\times n}$, $B_k\\in\\mathbb{R}^{n\\times m}$, and $G_k\\in\\mathbb{R}^{n\\times n}$ are system matrices. The disturbance $w_k\\in\\mathbb{R}^n$ is an i.i.d. Gaussian random vector such that $\\mathbb{E}[w_k] = 0$ and $\\mathbb{E}[w_kw_k^T] = I$. At the initial time step ($k=0$), the state is assumed to be a random vector that is normally distributed such that \n",
    "\n",
    "$x_0 \\sim \\mathcal{N}(\\bar{x}_0, P_0)$\n",
    "\n",
    "where $\\bar{x}_0$ and $P_0$ are the mean and covariance, respectively."
   ]
  }
 ],
 "metadata": {
  "kernelspec": {
   "display_name": "Julia 1.10.2",
   "language": "julia",
   "name": "julia-1.10"
  },
  "language_info": {
   "file_extension": ".jl",
   "mimetype": "application/julia",
   "name": "julia",
   "version": "1.10.2"
  },
  "orig_nbformat": 4
 },
 "nbformat": 4,
 "nbformat_minor": 2
}
