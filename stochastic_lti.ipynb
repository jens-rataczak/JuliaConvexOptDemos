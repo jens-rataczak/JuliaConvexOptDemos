{
 "cells": [
  {
   "cell_type": "markdown",
   "metadata": {},
   "source": [
    "# Covariance Steering of Stochastic Linear System"
   ]
  },
  {
   "cell_type": "markdown",
   "metadata": {},
   "source": [
    "### Dynamics\n",
    "\n",
    "Consider the stochastic linear discrete-time system given by\n",
    "\n",
    "$$\\begin{equation} x_{k+1} = A_kx_k + B_ku_k + G_kw_k \\end{equation}$$\n",
    "\n",
    "for $k = 0,1,\\ldots,N-1$ where $x\\in\\mathbb{R}^n$ and $u\\in\\mathbb{R}^m$ are the state and control, and $A_k\\in\\mathbb{R}^{n\\times n}$, $B_k\\in\\mathbb{R}^{n\\times m}$, and $G_k\\in\\mathbb{R}^{n\\times n}$ are system matrices. The disturbance $w_k\\in\\mathbb{R}^n$ is an i.i.d. Gaussian random vector such that $\\mathbb{E}[w_k] = 0$ and $\\mathbb{E}[w_kw_k^T] = Q$. At the initial time step ($k=0$), the state is assumed to be a random vector that is normally distributed such that \n",
    "\n",
    "$$x_0 \\sim \\mathcal{N}(\\bar{x}_0, P_0)$$\n",
    "\n",
    "where $\\bar{x}_0$ and $P_0$ are the mean and covariance, respectively. \n",
    "\n",
    "The idea behind covariance steering is to determine a control policy that guides not only the mean of the distribution, but also the covariance. First, we need an expression for how the mean and covariance of the stochastic system in Equation 1. The mean of the distribution is given by\n",
    "\n",
    "$$ \\bar{x}_{k+1} = \\mathbb{E}[x_{k+1}] = \\mathbb{E}[A_kx_k + B_ku_k + G_kw_k] = A_k\\bar{x}_k + B_k\\bar{u}_k$$\n",
    "\n",
    "Similarly, the covariance is \n",
    "\n",
    "$$ P_{k+1} = \\mathbb{E}[(x_{k+1} - \\bar{x}_{k+1})(x_{k+1} - \\bar{x}_{k+1})^T] = A_kP_kA_k^T + G_kQG_k^T $$\n",
    "\n",
    "Note than in these two expressions, the control $u$ only appears in the dynamics of the mean. Because of this, the covariance cannot be controlled using a simple feedforward controller $u_k = \\bar{u}_k$. Instead, consider a controller that consists of a feedforward term and a state-depended feedback term such that $u_{k} = \\bar{u}_k + K_k(x_k - \\bar{x}_k)$. Here $K_k$ is a feedback gain matrix that we will determine through numerical optimization. Substitution of the feedback controller into the original stochastic system dynamics produces the following expressions for the mean and covariance dynamics\n",
    "\n",
    "$$\\bar{x}_{k+1} = A_k\\bar{x}_k + B_k\\bar{u}_k$$\n",
    "$$P_{k+1} = (A_k+B_kK_k)P_k(A_k+B_kK_k)^T + G_kQG_k^T $$\n",
    "\n",
    "Note that the expression for the mean dynamics did not change, but the covariance dynamics now depend on the feedback gain $K_k$. This is a demonstration of the well-known conclusion in linear systems analysis that feedforward control steers the mean of the distribution and feedback control steers the covariance of the system. Now the goals is to determine what values of $K_k$ will satisfy the optimization objectives.\n",
    "\n",
    "### Initial and Terminal Constraints\n",
    "\n",
    "In deterministic settings, terminal constraints typically involve some form of a target state $x_f$ such that the spacecraft reaches $x_f$ at the final time. However, because the system in Equation 1 is stochastic, it is no longer sufficient to impose terminal constraints only on the mean state at the final time. A natural extension of deterministic terminal constraints would ensure the spacecraft to nominally arrive at the target $x_f$ within some prescribed accuracy represented by the final covariance $P_f$\n",
    "\n",
    "$$ \\bar{x}_N = x_f \\quad P_N \\preceq P_f$$\n",
    "\n",
    "Here the notation $\\preceq$ indicates that the matrix $P_N - P_f$ is negative semi-definite.\n",
    "\n",
    "### Path Chance Constraints\n",
    "\n",
    "Because the state, and therefore control, are uncertain, path constraints must also be treated probabilistically. Because the initial state is assumed to be normally distributed, the state at any time step $k$ is unbounded, so imposing hard constraints on the state distribution at any time is not possible. Instead, path constraints are enforced using ``chance'' constraints, which are probabilistic analogs to deterministic path constraints. A general chance constraint may be stated as \n",
    "\n",
    "$$ \\mathbb{P}[x_k \\in \\mathcal{S}] \\geq 1-\\varepsilon$$\n",
    "\n",
    "where $\\mathcal{S}$ is set denoting the feasible region, and $\\varepsilon \\in (0, 1)$ is a specified constraint violation tolerance. A simple and widely useful form of these chance constraints is the intersection of half spaces\n",
    "\n",
    "$$ P\\left[\\bigwedge_j a_j^Tx_k \\leq b_j\\right] \\geq 1-\\varepsilon$$"
   ]
  }
 ],
 "metadata": {
  "kernelspec": {
   "display_name": "Julia 1.10.2",
   "language": "julia",
   "name": "julia-1.10"
  },
  "language_info": {
   "file_extension": ".jl",
   "mimetype": "application/julia",
   "name": "julia",
   "version": "1.10.2"
  },
  "orig_nbformat": 4
 },
 "nbformat": 4,
 "nbformat_minor": 2
}
